{
 "cells": [
  {
   "cell_type": "markdown",
   "id": "3f2c9098",
   "metadata": {},
   "source": [
    "# Quick start"
   ]
  },
  {
   "cell_type": "code",
   "execution_count": null,
   "id": "0f7e319d-8e1c-4116-8ea3-59349e26fdad",
   "metadata": {},
   "outputs": [],
   "source": [
    "import xbitinfo as xb\n",
    "\n",
    "import xarray as xr"
   ]
  },
  {
   "cell_type": "raw",
   "id": "306df63b-572a-4cb3-b8a1-b2fc589e2524",
   "metadata": {},
   "source": [
    "ds = xr.tutorial.load_dataset(\"eraint_uvz\").astype(\"float32\")\n",
    "\n",
    "xb.plot_distribution(ds)\n",
    "ds"
   ]
  },
  {
   "attachments": {},
   "cell_type": "markdown",
   "id": "33509afb",
   "metadata": {},
   "source": [
    "**_NOTE:_** If you plan to use the example datasets provided by xarray, you will need to install the pooch package separately using the following command:"
   ]
  },
  {
   "cell_type": "raw",
   "id": "a413f325-0b8c-4a2e-864a-96c52e298c8f",
   "metadata": {},
   "source": [
    "pip install pooch"
   ]
  },
  {
   "attachments": {},
   "cell_type": "markdown",
   "id": "9a431133",
   "metadata": {},
   "source": [
    "Without installing pooch, you will not be able to download and load the example datasets, which may result in errors or unexpected behavior."
   ]
  },
  {
   "cell_type": "markdown",
   "id": "822d7b08",
   "metadata": {},
   "source": [
    "## Get information content per bit\n",
    "\n",
    "using {py:func}`xbitinfo.xbitinfo.get_bitinformation`"
   ]
  },
  {
   "cell_type": "raw",
   "id": "d091f0b5-3836-436b-999e-56fc79ddb4fa",
   "metadata": {},
   "source": [
    "info_per_bit = xb.get_bitinformation(ds, dim=\"longitude\", implementation=\"python\")\n",
    "\n",
    "info_per_bit"
   ]
  },
  {
   "cell_type": "markdown",
   "id": "bdfd9186",
   "metadata": {},
   "source": [
    "## Visualize information content\n",
    "using {py:func}`xbitinfo.graphics.plot_bitinformation`"
   ]
  },
  {
   "cell_type": "raw",
   "id": "8197475c-8d87-4fc1-a5d3-812236e63084",
   "metadata": {},
   "source": [
    "fig = xb.plot_bitinformation(info_per_bit)"
   ]
  },
  {
   "cell_type": "markdown",
   "id": "c14645a5",
   "metadata": {},
   "source": [
    "## Get keepbits\n",
    "\n",
    "using {py:func}`xbitinfo.xbitinfo.get_keepbits`"
   ]
  },
  {
   "cell_type": "raw",
   "id": "8dd3c411-d45b-40fb-896b-8b569406f139",
   "metadata": {},
   "source": [
    "keepbits = xb.get_keepbits(info_per_bit, 0.99)\n",
    "keepbits"
   ]
  },
  {
   "cell_type": "markdown",
   "id": "ec3dd057-b634-48b8-b9f4-47b09b2f4599",
   "metadata": {},
   "source": [
    "## Apply bitrounding\n",
    "\n",
    "using {py:func}`xbitinfo.bitround.xr_bitround` or {py:func}`xbitinfo.bitround.jl_bitround` (does not work for chunked data)"
   ]
  },
  {
   "cell_type": "raw",
   "id": "c9d89277-820e-4a05-bb4b-d88ad451d5be",
   "metadata": {},
   "source": [
    "ds_bitrounded = xb.xr_bitround(ds, keepbits)"
   ]
  },
  {
   "cell_type": "raw",
   "id": "dd32da96-4a6e-4b22-b900-21628f17eabc",
   "metadata": {},
   "source": [
    "xr.concat([ds, ds_bitrounded], \"bitround\").isel(level=0)[\"v\"].plot(\n",
    "    col=\"bitround\", row=\"month\"\n",
    ")"
   ]
  },
  {
   "cell_type": "markdown",
   "id": "c0b507c7-4261-4ff0-8d8e-617d874c6832",
   "metadata": {},
   "source": [
    "## Save compressed\n",
    "\n",
    "using {py:class}`xbitinfo.save_compressed.ToCompressed_Netcdf` or  {py:class}`xbitinfo.save_compressed.ToCompressed_Zarr`"
   ]
  },
  {
   "cell_type": "markdown",
   "id": "b9615eeb",
   "metadata": {},
   "source": [
    "### NetCDF"
   ]
  },
  {
   "cell_type": "raw",
   "id": "07ed5af9-89cb-4cf7-b580-2ff7b54e6d05",
   "metadata": {},
   "source": [
    "ds_bitrounded.to_compressed_netcdf(\"bitrounded_compressed.nc\")"
   ]
  },
  {
   "cell_type": "raw",
   "id": "72ad416f-2f6f-4de3-af23-19a804806967",
   "metadata": {},
   "source": [
    "ds.to_compressed_netcdf(\"compressed.nc\")"
   ]
  },
  {
   "cell_type": "raw",
   "id": "778fa40d-420c-4de9-ae1e-bfa71e838748",
   "metadata": {},
   "source": [
    "ds.to_netcdf(\"original.nc\")"
   ]
  },
  {
   "cell_type": "raw",
   "id": "d8cf3898-391e-4424-9708-613cc75500c0",
   "metadata": {},
   "source": [
    "!du -hs *.nc"
   ]
  },
  {
   "cell_type": "raw",
   "id": "fe6e6c1e-9aac-4872-b2b6-889c807c8d60",
   "metadata": {},
   "source": [
    "!rm *.nc"
   ]
  },
  {
   "cell_type": "markdown",
   "id": "dcdbe8ed",
   "metadata": {},
   "source": [
    "### Zarr"
   ]
  },
  {
   "cell_type": "raw",
   "id": "6fd3b943-2f17-4243-a8cb-2180937572a4",
   "metadata": {},
   "source": [
    "ds_bitrounded.to_compressed_zarr(\"bitrounded_compressed.zarr\", mode=\"w\")\n",
    "ds.to_compressed_zarr(\"compressed.zarr\", mode=\"w\")\n",
    "ds.to_zarr(\n",
    "    \"original.zarr\", mode=\"w\", encoding={v: {\"compressor\": None} for v in ds.data_vars}\n",
    ");"
   ]
  },
  {
   "cell_type": "raw",
   "id": "f6bd5c3b-341e-4ed6-8d55-f0af243db965",
   "metadata": {},
   "source": [
    "!du -hs *.zarr"
   ]
  },
  {
   "cell_type": "raw",
   "id": "442b3cf3-178e-46e2-b809-088b0553d8cb",
   "metadata": {},
   "source": [
    "!rm -r *.zarr"
   ]
  }
 ],
 "metadata": {
  "kernelspec": {
   "display_name": "Python 3 (ipykernel)",
   "language": "python",
   "name": "python3"
  },
  "language_info": {
   "codemirror_mode": {
    "name": "ipython",
    "version": 3
   },
   "file_extension": ".py",
   "mimetype": "text/x-python",
   "name": "python",
   "nbconvert_exporter": "python",
   "pygments_lexer": "ipython3",
   "version": "3.11.4"
  },
  "toc-autonumbering": true
 },
 "nbformat": 4,
 "nbformat_minor": 5
}
